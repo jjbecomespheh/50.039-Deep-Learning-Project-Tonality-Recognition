{
  "nbformat": 4,
  "nbformat_minor": 0,
  "metadata": {
    "colab": {
      "name": "Inference",
      "provenance": [],
      "collapsed_sections": []
    },
    "kernelspec": {
      "name": "python3",
      "display_name": "Python 3"
    },
    "language_info": {
      "name": "python"
    }
  },
  "cells": [
    {
      "cell_type": "code",
      "execution_count": 1,
      "metadata": {
        "colab": {
          "base_uri": "https://localhost:8080/"
        },
        "id": "MRpGNCGDTxSC",
        "outputId": "07910a29-ce8c-4754-fb8d-193c8db11201"
      },
      "outputs": [
        {
          "output_type": "stream",
          "name": "stdout",
          "text": [
            "Cloning into '50.039-Deep-Learning-Project-Tonality-Recognition'...\n",
            "remote: Enumerating objects: 9773, done.\u001b[K\n",
            "remote: Counting objects: 100% (144/144), done.\u001b[K\n",
            "remote: Compressing objects: 100% (115/115), done.\u001b[K\n",
            "remote: Total 9773 (delta 37), reused 129 (delta 25), pack-reused 9629\u001b[K\n",
            "Receiving objects: 100% (9773/9773), 642.58 MiB | 26.86 MiB/s, done.\n",
            "Resolving deltas: 100% (170/170), done.\n",
            "Checking out files: 100% (2902/2902), done.\n",
            "/content/50.039-Deep-Learning-Project-Tonality-Recognition\n"
          ]
        }
      ],
      "source": [
        "!git clone https://github.com/jjbecomespheh/50.039-Deep-Learning-Project-Tonality-Recognition.git\n",
        "%cd \"50.039-Deep-Learning-Project-Tonality-Recognition\""
      ]
    },
    {
      "cell_type": "code",
      "source": [
        "%cd inference/"
      ],
      "metadata": {
        "colab": {
          "base_uri": "https://localhost:8080/"
        },
        "id": "93MeewAhT5Hc",
        "outputId": "5f12a30d-25c7-4bae-ae70-ddb7ab74e83b"
      },
      "execution_count": 2,
      "outputs": [
        {
          "output_type": "stream",
          "name": "stdout",
          "text": [
            "/content/50.039-Deep-Learning-Project-Tonality-Recognition/inference\n"
          ]
        }
      ]
    },
    {
      "cell_type": "code",
      "source": [
        "# Make a TestData folder to upload test audio files\n",
        "# Please make it if it doesn't exist alreay\n",
        "# !mkdir TestData"
      ],
      "metadata": {
        "id": "J3f91Y2aUCt2"
      },
      "execution_count": 3,
      "outputs": []
    },
    {
      "cell_type": "code",
      "source": [
        "lstm_weights_path = \"../train/weights/LSTM_ES_LR0.001_D0.4.pt\"\n",
        "mlp_weights_path = \"../train/weights/MLP_ES_LR0.001.pt\""
      ],
      "metadata": {
        "id": "vOG-AZMmYkcj"
      },
      "execution_count": 4,
      "outputs": []
    },
    {
      "cell_type": "code",
      "source": [
        "!python Inference.py -m lstm -w ../train/weights/LSTM_ES_LR0.001_D0.4.pt -d 0.4 -b False\n",
        "# Note: The model LSTM_ES_LR0.001_D0.4 was trained with a dropout of 0.4 and the bidirectional attribute set\n",
        "# to False. Thus, these values have been passed into the the inference.py file using the -d and -f flags.\n",
        "# Please follow the same process should you replace the weights path"
      ],
      "metadata": {
        "colab": {
          "base_uri": "https://localhost:8080/"
        },
        "id": "P6SER7H3ULwX",
        "outputId": "f2f4fda0-8480-4c74-9a5d-b40c1bb2fd7b"
      },
      "execution_count": 21,
      "outputs": [
        {
          "output_type": "stream",
          "name": "stdout",
          "text": [
            "100% 7/7 [00:01<00:00,  4.65it/s]\n",
            "File: ./TestData/OAF_germ_fear.wav, Prediction: fear\n",
            "File: ./TestData/OAF_base_angry.wav, Prediction: angry\n",
            "File: ./TestData/YAF_chain_disgust.wav, Prediction: disgust\n",
            "File: ./TestData/OAF_ditch_sad.wav, Prediction: sad\n",
            "File: ./TestData/YAF_check_happy.wav, Prediction: happy\n",
            "File: ./TestData/OAF_dab_neutral.wav, Prediction: neutral\n",
            "File: ./TestData/YAF_gap_ps.wav, Prediction: ps\n"
          ]
        }
      ]
    },
    {
      "cell_type": "code",
      "source": [
        "!python Inference.py -m mlp -w ../train/weights/MLP_ES_LR0.001.pt"
      ],
      "metadata": {
        "colab": {
          "base_uri": "https://localhost:8080/"
        },
        "id": "PqJGNHUzmxrz",
        "outputId": "7932c935-911b-4ee6-cc32-89959d90b9ca"
      },
      "execution_count": 16,
      "outputs": [
        {
          "output_type": "stream",
          "name": "stdout",
          "text": [
            "100% 7/7 [00:01<00:00,  4.75it/s]\n",
            "File: ./TestData/OAF_germ_fear.wav, Prediction: fear\n",
            "File: ./TestData/OAF_base_angry.wav, Prediction: angry\n",
            "File: ./TestData/YAF_chain_disgust.wav, Prediction: disgust\n",
            "File: ./TestData/OAF_ditch_sad.wav, Prediction: sad\n",
            "File: ./TestData/YAF_check_happy.wav, Prediction: happy\n",
            "File: ./TestData/OAF_dab_neutral.wav, Prediction: neutral\n",
            "File: ./TestData/YAF_gap_ps.wav, Prediction: ps\n"
          ]
        }
      ]
    }
  ]
}