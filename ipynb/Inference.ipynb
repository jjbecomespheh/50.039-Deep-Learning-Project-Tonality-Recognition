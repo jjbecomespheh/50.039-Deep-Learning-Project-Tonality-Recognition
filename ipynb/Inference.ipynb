{
  "cells": [
    {
      "cell_type": "code",
      "execution_count": 1,
      "metadata": {
        "colab": {
          "base_uri": "https://localhost:8080/"
        },
        "id": "MRpGNCGDTxSC",
        "outputId": "ba223b1e-cdcd-4483-ee10-b7d59114582f"
      },
      "outputs": [
        {
          "name": "stdout",
          "output_type": "stream",
          "text": [
            "Cloning into '50.039-Deep-Learning-Project-Tonality-Recognition'...\n",
            "remote: Enumerating objects: 3013, done.\u001b[K\n",
            "remote: Total 3013 (delta 0), reused 0 (delta 0), pack-reused 3013\u001b[K\n",
            "Receiving objects: 100% (3013/3013), 221.09 MiB | 28.03 MiB/s, done.\n",
            "Resolving deltas: 100% (90/90), done.\n",
            "Checking out files: 100% (2823/2823), done.\n",
            "/content/50.039-Deep-Learning-Project-Tonality-Recognition\n"
          ]
        }
      ],
      "source": [
        "!git clone https://github.com/jjbecomespheh/50.039-Deep-Learning-Project-Tonality-Recognition.git\n",
        "%cd \"50.039-Deep-Learning-Project-Tonality-Recognition\""
      ]
    },
    {
      "cell_type": "code",
      "execution_count": 2,
      "metadata": {
        "colab": {
          "base_uri": "https://localhost:8080/"
        },
        "id": "93MeewAhT5Hc",
        "outputId": "1112b93d-0f0d-4dfc-bc1e-a3125f849f6e"
      },
      "outputs": [
        {
          "name": "stdout",
          "output_type": "stream",
          "text": [
            "/content/50.039-Deep-Learning-Project-Tonality-Recognition/inference\n"
          ]
        }
      ],
      "source": [
        "%cd inference/"
      ]
    },
    {
      "cell_type": "code",
      "execution_count": 3,
      "metadata": {
        "id": "J3f91Y2aUCt2"
      },
      "outputs": [],
      "source": [
        "# Make a TestData folder to upload test audio files\n",
        "!mkdir TestData"
      ]
    },
    {
      "cell_type": "code",
      "execution_count": 13,
      "metadata": {
        "colab": {
          "base_uri": "https://localhost:8080/"
        },
        "id": "P6SER7H3ULwX",
        "outputId": "247d5615-49b7-4a28-ed35-e3db83e49ac4"
      },
      "outputs": [
        {
          "name": "stdout",
          "output_type": "stream",
          "text": [
            "100% 3/3 [00:01<00:00,  2.97it/s]\n",
            "torch.Size([3, 40, 40, 1])\n",
            "tensor([1, 1, 1])\n"
          ]
        }
      ],
      "source": [
        "!python Inference.py"
      ]
    }
  ],
  "metadata": {
    "colab": {
      "name": "Inference",
      "provenance": []
    },
    "kernelspec": {
      "display_name": "Python 3",
      "name": "python3"
    },
    "language_info": {
      "name": "python"
    }
  },
  "nbformat": 4,
  "nbformat_minor": 0
}
