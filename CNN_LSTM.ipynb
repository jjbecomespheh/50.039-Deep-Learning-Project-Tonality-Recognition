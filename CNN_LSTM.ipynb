{
 "cells": [
  {
   "cell_type": "markdown",
   "metadata": {
    "id": "acBn0jSXWmvJ"
   },
   "source": [
    "# CNN LSTM Model\n",
    "\n",
    "50.039 Theory and Practice of Deep Learning Project"
   ]
  },
  {
   "cell_type": "code",
   "execution_count": 8,
   "metadata": {},
   "outputs": [
    {
     "name": "stdout",
     "output_type": "stream",
     "text": [
      "Requirement already satisfied: torchinfo in /opt/conda/lib/python3.6/site-packages (1.5.4)\r\n"
     ]
    }
   ],
   "source": [
    "!pip install torchinfo"
   ]
  },
  {
   "cell_type": "code",
   "execution_count": 7,
   "metadata": {
    "id": "vVoDMjO-iV8H"
   },
   "outputs": [
    {
     "ename": "ModuleNotFoundError",
     "evalue": "No module named 'torchinfo'",
     "output_type": "error",
     "traceback": [
      "\u001b[0;31m---------------------------------------------------------------------------\u001b[0m",
      "\u001b[0;31mModuleNotFoundError\u001b[0m                       Traceback (most recent call last)",
      "\u001b[0;32m<ipython-input-7-29ff30cbe943>\u001b[0m in \u001b[0;36m<module>\u001b[0;34m\u001b[0m\n\u001b[1;32m      9\u001b[0m \u001b[0;32mimport\u001b[0m \u001b[0mtorch\u001b[0m\u001b[0;34m\u001b[0m\u001b[0;34m\u001b[0m\u001b[0m\n\u001b[1;32m     10\u001b[0m \u001b[0;32mimport\u001b[0m \u001b[0mtorch\u001b[0m\u001b[0;34m.\u001b[0m\u001b[0mnn\u001b[0m \u001b[0;32mas\u001b[0m \u001b[0mnn\u001b[0m\u001b[0;34m\u001b[0m\u001b[0;34m\u001b[0m\u001b[0m\n\u001b[0;32m---> 11\u001b[0;31m \u001b[0;32mfrom\u001b[0m \u001b[0mtorchinfo\u001b[0m \u001b[0;32mimport\u001b[0m \u001b[0msummary\u001b[0m\u001b[0;34m\u001b[0m\u001b[0;34m\u001b[0m\u001b[0m\n\u001b[0m\u001b[1;32m     12\u001b[0m \u001b[0;32mimport\u001b[0m \u001b[0mtorch\u001b[0m\u001b[0;34m.\u001b[0m\u001b[0moptim\u001b[0m \u001b[0;32mas\u001b[0m \u001b[0moptim\u001b[0m\u001b[0;34m\u001b[0m\u001b[0;34m\u001b[0m\u001b[0m\n\u001b[1;32m     13\u001b[0m \u001b[0;32mimport\u001b[0m \u001b[0mtorch\u001b[0m\u001b[0;34m.\u001b[0m\u001b[0mnn\u001b[0m\u001b[0;34m.\u001b[0m\u001b[0mfunctional\u001b[0m \u001b[0;32mas\u001b[0m \u001b[0mF\u001b[0m\u001b[0;34m\u001b[0m\u001b[0;34m\u001b[0m\u001b[0m\n",
      "\u001b[0;31mModuleNotFoundError\u001b[0m: No module named 'torchinfo'"
     ]
    }
   ],
   "source": [
    "import pandas as pd\n",
    "import numpy as np\n",
    "import os\n",
    "import librosa\n",
    "import librosa.display\n",
    "import seaborn as sns\n",
    "import matplotlib.pyplot as plt\n",
    "\n",
    "import torch\n",
    "import torch.nn as nn\n",
    "import torch.optim as optim\n",
    "import torch.nn.functional as F\n",
    "\n",
    "from Preprocessor import *\n",
    "from Constants import *\n",
    "\n",
    "from tqdm import tqdm\n",
    "from torchinfo import summary\n",
    "from IPython.display import Audio\n",
    "from sklearn.metrics import confusion_matrix\n",
    "from sklearn.preprocessing import StandardScaler"
   ]
  },
  {
   "cell_type": "code",
   "execution_count": 5,
   "metadata": {
    "colab": {
     "base_uri": "https://localhost:8080/"
    },
    "id": "5iqRAZ7Ph3Xt",
    "outputId": "1050ad17-84b7-4085-e8c1-0b28ec008486"
   },
   "outputs": [
    {
     "name": "stdout",
     "output_type": "stream",
     "text": [
      "ALL EMOTIONS: {'happy', 'fear', 'neutral', 'ps', 'disgust', 'sad', 'angry'}\n"
     ]
    },
    {
     "data": {
      "text/html": [
       "<div>\n",
       "<style scoped>\n",
       "    .dataframe tbody tr th:only-of-type {\n",
       "        vertical-align: middle;\n",
       "    }\n",
       "\n",
       "    .dataframe tbody tr th {\n",
       "        vertical-align: top;\n",
       "    }\n",
       "\n",
       "    .dataframe thead th {\n",
       "        text-align: right;\n",
       "    }\n",
       "</style>\n",
       "<table border=\"1\" class=\"dataframe\">\n",
       "  <thead>\n",
       "    <tr style=\"text-align: right;\">\n",
       "      <th></th>\n",
       "      <th>Emotions</th>\n",
       "      <th>Path</th>\n",
       "    </tr>\n",
       "  </thead>\n",
       "  <tbody>\n",
       "    <tr>\n",
       "      <th>0</th>\n",
       "      <td>sad</td>\n",
       "      <td>./TESS/YAF_sad/YAF_wife_sad.wav</td>\n",
       "    </tr>\n",
       "    <tr>\n",
       "      <th>1</th>\n",
       "      <td>sad</td>\n",
       "      <td>./TESS/YAF_sad/YAF_hate_sad.wav</td>\n",
       "    </tr>\n",
       "    <tr>\n",
       "      <th>2</th>\n",
       "      <td>sad</td>\n",
       "      <td>./TESS/YAF_sad/YAF_phone_sad.wav</td>\n",
       "    </tr>\n",
       "    <tr>\n",
       "      <th>3</th>\n",
       "      <td>sad</td>\n",
       "      <td>./TESS/YAF_sad/YAF_week_sad.wav</td>\n",
       "    </tr>\n",
       "    <tr>\n",
       "      <th>4</th>\n",
       "      <td>sad</td>\n",
       "      <td>./TESS/YAF_sad/YAF_raid_sad.wav</td>\n",
       "    </tr>\n",
       "  </tbody>\n",
       "</table>\n",
       "</div>"
      ],
      "text/plain": [
       "  Emotions                              Path\n",
       "0      sad   ./TESS/YAF_sad/YAF_wife_sad.wav\n",
       "1      sad   ./TESS/YAF_sad/YAF_hate_sad.wav\n",
       "2      sad  ./TESS/YAF_sad/YAF_phone_sad.wav\n",
       "3      sad   ./TESS/YAF_sad/YAF_week_sad.wav\n",
       "4      sad   ./TESS/YAF_sad/YAF_raid_sad.wav"
      ]
     },
     "execution_count": 5,
     "metadata": {},
     "output_type": "execute_result"
    }
   ],
   "source": [
    "#Convert Dataset into Pandas Dataframe\n",
    "Tess = \"./TESS\"\n",
    "\n",
    "tess_directory_list = os.listdir(Tess)\n",
    "preprocessor = DataPreprocessor()   \n",
    "file_paths, labels = preprocessor.get_file_paths_and_labels(Tess)\n",
    "\n",
    "EMOTION_ENCODING = {'neutral':0,'happy':1, 'sad':2, 'angry':3, 'fear':4, 'disgust':5, 'ps':6}\n",
    "encoded_labels = [EMOTION_ENCODING[label] for label in labels]\n",
    "emotion_df = pd.DataFrame(labels, columns=['Emotions'])\n",
    "print(\"ALL EMOTIONS:\", set(labels))\n",
    "\n",
    "path_df = pd.DataFrame(file_paths, columns=['Path'])\n",
    "Tess_df = pd.concat([emotion_df, path_df], axis=1)\n",
    "Tess_df.head()"
   ]
  },
  {
   "cell_type": "markdown",
   "metadata": {
    "id": "aYePgCseWmvU"
   },
   "source": [
    "# Data Preprocessing"
   ]
  },
  {
   "cell_type": "code",
   "execution_count": 8,
   "metadata": {},
   "outputs": [
    {
     "name": "stdout",
     "output_type": "stream",
     "text": [
      " Processed 2799/2800 files"
     ]
    }
   ],
   "source": [
    "#Extracting mel spectrograms from Dataset\n",
    "signals = preprocessor.extract_audio_signals(Tess_df['Path'])\n",
    "mel_spectograms = preprocessor.extract_mel_spectograms(signals)"
   ]
  },
  {
   "cell_type": "code",
   "execution_count": 59,
   "metadata": {},
   "outputs": [],
   "source": [
    "#Spliting extracted mel spectrogram data into training, testing and validation set\n",
    "X_train, X_val, X_test, Y_train, Y_val, Y_test = preprocessor.train_val_test_split(mel_spectograms, encoded_labels)"
   ]
  },
  {
   "cell_type": "code",
   "execution_count": null,
   "metadata": {},
   "outputs": [],
   "source": [
    "#Scaling and reshape Data for training\n",
    "X_train = preprocessor.reshape_scale_data(X_train)\n",
    "X_test = preprocessor.reshape_scale_data(X_test)\n",
    "X_val = preprocessor.reshape_scale_data(X_val)"
   ]
  },
  {
   "cell_type": "markdown",
   "metadata": {
    "id": "vM2L_HIrWmvZ"
   },
   "source": [
    "# Visualizing mel spectrograms"
   ]
  },
  {
   "cell_type": "code",
   "execution_count": 60,
   "metadata": {},
   "outputs": [
    {
     "data": {
      "text/plain": [
       "<matplotlib.axes._subplots.AxesSubplot at 0x7fe9b0172748>"
      ]
     },
     "execution_count": 60,
     "metadata": {},
     "output_type": "execute_result"
    },
    {
     "data": {
      "image/png": "[encoded data removed]",
      "text/plain": [
       "<Figure size 432x288 with 1 Axes>"
      ]
     },
     "metadata": {
      "needs_background": "light"
     },
     "output_type": "display_data"
    }
   ],
   "source": [
    "librosa.display.specshow(X_train[3].squeeze(), y_axis='mel', x_axis='time',cmap='magma')"
   ]
  },
  {
   "cell_type": "markdown",
   "metadata": {
    "id": "E71VeUp5Wmvb"
   },
   "source": [
    "# Create the model"
   ]
  },
  {
   "cell_type": "code",
   "execution_count": 13,
   "metadata": {},
   "outputs": [],
   "source": [
    "class CNN_LSTM(nn.Module):\n",
    "    def __init__(self,num_emotions):\n",
    "        super().__init__()\n",
    "        conv2d_1 = nn.Conv2d(in_channels=1, out_channels=16, stride=1, padding=1, kernel_size=3)\n",
    "        conv2d_2 = nn.Conv2d(in_channels=16, out_channels=32, stride=1, padding=1, kernel_size=3)\n",
    "        conv2d_3 = nn.Conv2d(in_channels=32, out_channels=64, stride=1, padding=1, kernel_size=3)\n",
    "        conv2d_4 = nn.Conv2d(in_channels=64, out_channels=64, stride=1, padding=1, kernel_size=3)\n",
    "        relu = nn.ReLU()\n",
    "        maxPool2_2 = nn.MaxPool2d(kernel_size=2, stride=2)\n",
    "        maxPool4_4 = nn.MaxPool2d(kernel_size=4, stride=4)\n",
    "        dropOut = nn.Dropout(p=0.3)\n",
    "        batchNorm16 = nn.BatchNorm2d(16)\n",
    "        batchNorm32 = nn.BatchNorm2d(32)\n",
    "        batchNorm64 = nn.BatchNorm2d(64)\n",
    "        \n",
    "        #Convolution Block\n",
    "        self.conv2Dblock = nn.Sequential(conv2d_1, batchNorm16, relu, maxPool2_2, dropOut,\n",
    "                                         conv2d_2, batchNorm32, relu, maxPool4_4, dropOut,\n",
    "                                         conv2d_3, batchNorm64, relu, maxPool4_4, dropOut,\n",
    "                                         conv2d_4, batchNorm64, relu, maxPool4_4, dropOut)\n",
    "        \n",
    "        #LSTM Block (NEEED WORKKKKKKKKKKKKKKKKKK)\n",
    "        self.lstm_maxpool = nn.MaxPool2d(kernel_size=[2,4], stride=[2,4])\n",
    "        hidden_size = 128\n",
    "        self.lstm = nn.LSTM(input_size=64,hidden_size=hidden_size,bidirectional=True, batch_first=True)\n",
    "        self.dropout_lstm = nn.Dropout(0.1)\n",
    "        self.attention_linear = nn.Linear(2*hidden_size,1) # 2*hidden_size for the 2 outputs of bidir LSTM\n",
    "        #Linear softmax layer\n",
    "        self.out_linear = nn.Linear(2*hidden_size+256,num_emotions)\n",
    "        self.dropout_linear = nn.Dropout(p=0)\n",
    "        self.out_softmax = nn.Softmax(dim=1)\n",
    "    \n",
    "    def forward(self,x):\n",
    "        #Convolutional Embedding\n",
    "        conv_embedding = self.conv2Dblock(x) #(b,channel,freq,time)\n",
    "        conv_embedding = torch.flatten(conv_embedding, start_dim=1) # do not flatten batch dimension\n",
    "        #LSTM Embedding\n",
    "        x_reduced = self.lstm_maxpool(x)\n",
    "        x_reduced = torch.squeeze(x_reduced,1)\n",
    "        x_reduced = x_reduced.permute(0,2,1) # (b,t,freq)\n",
    "        lstm_embedding, (h,c) = self.lstm(x_reduced) # (b,time,hidden_size*2)\n",
    "        lstm_embedding = self.dropout_lstm(lstm_embedding)\n",
    "        batch_size,T,_ = lstm_embedding.shape \n",
    "        attention_weights = [None]*T\n",
    "        for t in range(T):\n",
    "            embedding = lstm_embedding[:,t,:]\n",
    "            attention_weights[t] = self.attention_linear(embedding)\n",
    "        attention_weights_norm = nn.functional.softmax(torch.stack(attention_weights,-1),-1)\n",
    "        attention = torch.bmm(attention_weights_norm,lstm_embedding) # (Bx1xT)*(B,T,hidden_size*2)=(B,1,2*hidden_size)\n",
    "        attention = torch.squeeze(attention, 1)\n",
    "        # concatenate\n",
    "        complete_embedding = torch.cat([conv_embedding, attention], dim=1) \n",
    "        \n",
    "        output_logits = self.out_linear(complete_embedding)\n",
    "        output_logits = self.dropout_linear(output_logits)\n",
    "        output_softmax = self.out_softmax(output_logits)\n",
    "        return output_logits, output_softmax, attention_weights_norm"
   ]
  },
  {
   "cell_type": "code",
   "execution_count": 14,
   "metadata": {
    "id": "8w51AKkUWmvd"
   },
   "outputs": [],
   "source": [
    "def loss_func(predictions, targets):\n",
    "    loss = nn.CrossEntropyLoss()\n",
    "    return loss(input=predictions,target=targets)"
   ]
  },
  {
   "cell_type": "markdown",
   "metadata": {
    "id": "10sxtTuNWmvd"
   },
   "source": [
    "# TRAINING"
   ]
  },
  {
   "cell_type": "code",
   "execution_count": 15,
   "metadata": {
    "id": "EE987u5qWmvd"
   },
   "outputs": [],
   "source": [
    "def make_train_step(model, loss_func, optimizer):\n",
    "    def train_step(X,Y):\n",
    "        # set model to train mode\n",
    "        model.train()\n",
    "        # forward pass\n",
    "        output_logits, output_softmax, attention_weights_norm = model(X)\n",
    "        predictions = torch.argmax(output_softmax,dim=1)\n",
    "        accuracy = torch.sum(Y==predictions)/float(len(Y))\n",
    "        # compute loss\n",
    "        loss = loss_func(output_logits, Y)\n",
    "        # compute gradients\n",
    "        loss.backward()\n",
    "        # update parameters and zero gradients\n",
    "        optimizer.step()\n",
    "        optimizer.zero_grad()\n",
    "        return loss.item(), accuracy*100\n",
    "    return train_step"
   ]
  },
  {
   "cell_type": "code",
   "execution_count": 16,
   "metadata": {
    "id": "pP0GGToIWmve"
   },
   "outputs": [],
   "source": [
    "def make_validate_func(model,loss_func):\n",
    "    def validate(X,Y):\n",
    "        with torch.no_grad():\n",
    "            model.eval()\n",
    "            output_logits, output_softmax, attention_weights_norm = model(X)\n",
    "            predictions = torch.argmax(output_softmax,dim=1)\n",
    "            accuracy = torch.sum(Y==predictions)/float(len(Y))\n",
    "            loss = loss_func(output_logits,Y)\n",
    "        return loss.item(), accuracy*100, predictions\n",
    "    return validate"
   ]
  },
  {
   "cell_type": "markdown",
   "metadata": {
    "id": "tDN-lRs7Wmvf"
   },
   "source": [
    "# Train the model"
   ]
  },
  {
   "cell_type": "code",
   "execution_count": 19,
   "metadata": {
    "id": "CRbGiqWuWmvf"
   },
   "outputs": [
    {
     "name": "stdout",
     "output_type": "stream",
     "text": [
      "Selected device is cuda\n",
      "Number of trainable params:  262952\n",
      " Epoch 0: iteration 69/70\n",
      "Epoch 0 --> loss:1.6325, acc:37.77%, val_loss:1.6460, val_acc:27.50%\n",
      " Epoch 1: iteration 69/70\n",
      "Epoch 1 --> loss:1.2310, acc:53.57%, val_loss:1.4244, val_acc:50.71%\n",
      " Epoch 2: iteration 69/70\n",
      "Epoch 2 --> loss:0.9423, acc:63.62%, val_loss:1.1860, val_acc:65.00%\n",
      " Epoch 3: iteration 69/70\n",
      "Epoch 3 --> loss:0.8452, acc:68.21%, val_loss:0.9823, val_acc:75.00%\n",
      " Epoch 4: iteration 69/70\n",
      "Epoch 4 --> loss:0.7394, acc:70.89%, val_loss:0.9577, val_acc:75.71%\n",
      " Epoch 5: iteration 69/70\n",
      "Epoch 5 --> loss:0.6502, acc:75.13%, val_loss:0.8733, val_acc:83.57%\n",
      " Epoch 6: iteration 69/70\n",
      "Epoch 6 --> loss:0.6110, acc:77.10%, val_loss:0.7373, val_acc:82.50%\n",
      " Epoch 7: iteration 69/70\n",
      "Epoch 7 --> loss:0.5424, acc:81.16%, val_loss:0.7297, val_acc:82.86%\n",
      " Epoch 8: iteration 69/70\n",
      "Epoch 8 --> loss:0.4877, acc:81.52%, val_loss:0.6989, val_acc:81.43%\n",
      " Epoch 9: iteration 69/70\n",
      "Epoch 9 --> loss:0.4332, acc:84.15%, val_loss:0.8767, val_acc:77.86%\n",
      " Epoch 10: iteration 69/70\n",
      "Epoch 10 --> loss:0.3905, acc:85.94%, val_loss:0.4800, val_acc:87.86%\n",
      " Epoch 11: iteration 69/70\n",
      "Epoch 11 --> loss:0.3373, acc:87.50%, val_loss:0.4142, val_acc:92.14%\n",
      " Epoch 12: iteration 69/70\n",
      "Epoch 12 --> loss:0.2621, acc:90.98%, val_loss:0.3448, val_acc:93.57%\n",
      " Epoch 13: iteration 69/70\n",
      "Epoch 13 --> loss:0.2333, acc:91.47%, val_loss:0.3074, val_acc:93.21%\n",
      " Epoch 14: iteration 69/70\n",
      "Epoch 14 --> loss:0.1974, acc:93.62%, val_loss:0.2263, val_acc:95.36%\n",
      " Epoch 15: iteration 69/70\n",
      "Epoch 15 --> loss:0.1753, acc:94.29%, val_loss:0.2561, val_acc:95.36%\n",
      " Epoch 16: iteration 69/70\n",
      "Epoch 16 --> loss:0.1464, acc:95.00%, val_loss:0.1678, val_acc:95.71%\n",
      " Epoch 17: iteration 69/70\n",
      "Epoch 17 --> loss:0.1461, acc:95.31%, val_loss:0.1847, val_acc:96.07%\n",
      " Epoch 18: iteration 69/70\n",
      "Epoch 18 --> loss:0.1234, acc:96.25%, val_loss:0.1974, val_acc:97.14%\n",
      " Epoch 19: iteration 69/70\n",
      "Epoch 19 --> loss:0.1013, acc:96.65%, val_loss:0.1654, val_acc:97.86%\n",
      " Epoch 20: iteration 69/70\n",
      "Epoch 20 --> loss:0.0987, acc:97.05%, val_loss:0.1610, val_acc:97.14%\n",
      " Epoch 21: iteration 69/70\n",
      "Epoch 21 --> loss:0.0908, acc:97.05%, val_loss:0.1329, val_acc:97.86%\n",
      " Epoch 22: iteration 69/70\n",
      "Epoch 22 --> loss:0.0804, acc:97.59%, val_loss:0.1260, val_acc:97.14%\n",
      " Epoch 23: iteration 69/70\n",
      "Epoch 23 --> loss:0.0619, acc:98.30%, val_loss:0.1045, val_acc:97.50%\n",
      " Epoch 24: iteration 69/70\n",
      "Epoch 24 --> loss:0.0582, acc:98.44%, val_loss:0.1098, val_acc:97.50%\n",
      " Epoch 25: iteration 69/70\n",
      "Epoch 25 --> loss:0.0677, acc:97.68%, val_loss:0.2060, val_acc:93.57%\n",
      " Epoch 26: iteration 69/70\n",
      "Epoch 26 --> loss:0.0578, acc:98.53%, val_loss:0.1256, val_acc:97.50%\n",
      " Epoch 27: iteration 69/70\n",
      "Epoch 27 --> loss:0.0536, acc:98.26%, val_loss:0.1014, val_acc:97.86%\n",
      " Epoch 28: iteration 69/70\n",
      "Epoch 28 --> loss:0.0535, acc:98.57%, val_loss:0.0971, val_acc:98.57%\n",
      " Epoch 29: iteration 69/70\n",
      "Epoch 29 --> loss:0.0456, acc:98.62%, val_loss:0.0657, val_acc:98.93%\n",
      " Epoch 30: iteration 69/70\n",
      "Epoch 30 --> loss:0.0487, acc:98.84%, val_loss:0.0812, val_acc:98.21%\n",
      " Epoch 31: iteration 69/70\n",
      "Epoch 31 --> loss:0.0383, acc:99.06%, val_loss:0.0836, val_acc:97.86%\n",
      " Epoch 32: iteration 69/70\n",
      "Epoch 32 --> loss:0.0394, acc:99.06%, val_loss:0.0962, val_acc:98.21%\n",
      " Epoch 33: iteration 69/70\n",
      "Epoch 33 --> loss:0.0321, acc:99.06%, val_loss:0.0869, val_acc:97.14%\n",
      " Epoch 34: iteration 69/70\n",
      "Epoch 34 --> loss:0.0387, acc:98.97%, val_loss:0.0749, val_acc:99.64%\n",
      " Epoch 35: iteration 69/70\n",
      "Epoch 35 --> loss:0.0385, acc:98.84%, val_loss:0.0694, val_acc:99.64%\n",
      " Epoch 36: iteration 69/70\n",
      "Epoch 36 --> loss:0.0310, acc:99.29%, val_loss:0.0671, val_acc:98.93%\n",
      " Epoch 37: iteration 69/70\n",
      "Epoch 37 --> loss:0.0295, acc:99.20%, val_loss:0.0662, val_acc:98.93%\n",
      " Epoch 38: iteration 69/70\n",
      "Epoch 38 --> loss:0.0285, acc:99.29%, val_loss:0.0761, val_acc:98.21%\n",
      " Epoch 39: iteration 69/70\n",
      "Epoch 39 --> loss:0.0259, acc:99.24%, val_loss:0.0641, val_acc:99.64%\n",
      " Epoch 40: iteration 69/70\n",
      "Epoch 40 --> loss:0.0280, acc:99.29%, val_loss:0.0570, val_acc:98.93%\n",
      " Epoch 41: iteration 69/70\n",
      "Epoch 41 --> loss:0.0237, acc:99.55%, val_loss:0.0622, val_acc:98.93%\n",
      " Epoch 42: iteration 69/70\n",
      "Epoch 42 --> loss:0.0219, acc:99.55%, val_loss:0.0470, val_acc:99.64%\n",
      " Epoch 43: iteration 69/70\n",
      "Epoch 43 --> loss:0.0245, acc:99.29%, val_loss:0.0603, val_acc:98.57%\n",
      " Epoch 44: iteration 69/70\n",
      "Epoch 44 --> loss:0.0219, acc:99.46%, val_loss:0.0588, val_acc:98.57%\n",
      " Epoch 45: iteration 69/70\n",
      "Epoch 45 --> loss:0.0269, acc:99.20%, val_loss:0.0589, val_acc:98.93%\n",
      " Epoch 46: iteration 69/70\n",
      "Epoch 46 --> loss:0.0196, acc:99.64%, val_loss:0.0577, val_acc:98.93%\n",
      " Epoch 47: iteration 69/70\n",
      "Epoch 47 --> loss:0.0194, acc:99.55%, val_loss:0.0617, val_acc:99.29%\n",
      " Epoch 48: iteration 69/70\n",
      "Epoch 48 --> loss:0.0145, acc:99.87%, val_loss:0.0792, val_acc:97.50%\n",
      " Epoch 49: iteration 69/70\n",
      "Epoch 49 --> loss:0.0228, acc:99.46%, val_loss:0.0595, val_acc:99.29%\n",
      " Epoch 50: iteration 69/70\n",
      "Epoch 50 --> loss:0.0139, acc:99.87%, val_loss:0.0667, val_acc:98.57%\n",
      " Epoch 51: iteration 69/70\n",
      "Epoch 51 --> loss:0.0180, acc:99.64%, val_loss:0.0458, val_acc:99.64%\n",
      " Epoch 52: iteration 69/70\n",
      "Epoch 52 --> loss:0.0152, acc:99.73%, val_loss:0.0454, val_acc:99.64%\n",
      " Epoch 53: iteration 69/70\n",
      "Epoch 53 --> loss:0.0144, acc:99.69%, val_loss:0.0653, val_acc:98.57%\n",
      " Epoch 54: iteration 69/70\n",
      "Epoch 54 --> loss:0.0166, acc:99.60%, val_loss:0.0695, val_acc:99.29%\n",
      " Epoch 55: iteration 69/70\n",
      "Epoch 55 --> loss:0.0151, acc:99.73%, val_loss:0.0613, val_acc:98.93%\n",
      " Epoch 56: iteration 69/70\n",
      "Epoch 56 --> loss:0.0151, acc:99.82%, val_loss:0.0491, val_acc:99.29%\n",
      " Epoch 57: iteration 69/70\n",
      "Epoch 57 --> loss:0.0137, acc:99.69%, val_loss:0.0530, val_acc:99.64%\n",
      " Epoch 58: iteration 69/70\n",
      "Epoch 58 --> loss:0.0132, acc:99.82%, val_loss:0.0473, val_acc:99.64%\n",
      " Epoch 59: iteration 69/70\n",
      "Epoch 59 --> loss:0.0140, acc:99.60%, val_loss:0.0543, val_acc:99.29%\n",
      " Epoch 60: iteration 69/70\n",
      "Epoch 60 --> loss:0.0147, acc:99.82%, val_loss:0.0709, val_acc:98.57%\n",
      " Epoch 61: iteration 69/70\n",
      "Epoch 61 --> loss:0.0200, acc:99.29%, val_loss:0.0664, val_acc:98.93%\n",
      " Epoch 62: iteration 69/70\n",
      "Epoch 62 --> loss:0.0153, acc:99.78%, val_loss:0.0601, val_acc:99.64%\n",
      " Epoch 63: iteration 69/70\n",
      "Epoch 63 --> loss:0.0153, acc:99.73%, val_loss:0.0629, val_acc:99.29%\n",
      " Epoch 64: iteration 69/70\n",
      "Epoch 64 --> loss:0.0123, acc:99.78%, val_loss:0.0532, val_acc:99.29%\n",
      " Epoch 65: iteration 69/70\n",
      "Epoch 65 --> loss:0.0125, acc:99.78%, val_loss:0.0485, val_acc:99.64%\n",
      " Epoch 66: iteration 69/70\n",
      "Epoch 66 --> loss:0.0107, acc:99.91%, val_loss:0.0509, val_acc:99.64%\n",
      " Epoch 67: iteration 69/70\n",
      "Epoch 67 --> loss:0.0099, acc:100.00%, val_loss:0.0638, val_acc:98.57%\n",
      " Epoch 68: iteration 69/70\n",
      "Epoch 68 --> loss:0.0116, acc:99.82%, val_loss:0.0616, val_acc:98.21%\n",
      " Epoch 69: iteration 69/70\n",
      "Epoch 69 --> loss:0.0117, acc:99.82%, val_loss:0.0492, val_acc:99.64%\n",
      " Epoch 70: iteration 69/70\n",
      "Epoch 70 --> loss:0.0117, acc:99.78%, val_loss:0.0471, val_acc:98.93%\n",
      " Epoch 71: iteration 69/70\n",
      "Epoch 71 --> loss:0.0096, acc:99.91%, val_loss:0.0486, val_acc:99.29%\n",
      " Epoch 72: iteration 69/70\n",
      "Epoch 72 --> loss:0.0107, acc:99.82%, val_loss:0.0566, val_acc:99.29%\n",
      " Epoch 73: iteration 69/70\n",
      "Epoch 73 --> loss:0.0105, acc:99.91%, val_loss:0.0516, val_acc:99.29%\n",
      " Epoch 74: iteration 69/70\n",
      "Epoch 74 --> loss:0.0099, acc:99.78%, val_loss:0.0622, val_acc:98.21%\n",
      " Epoch 75: iteration 69/70\n",
      "Epoch 75 --> loss:0.0154, acc:99.64%, val_loss:0.0685, val_acc:97.86%\n",
      " Epoch 76: iteration 69/70\n",
      "Epoch 76 --> loss:0.0099, acc:99.91%, val_loss:0.0643, val_acc:98.21%\n",
      " Epoch 77: iteration 69/70\n",
      "Epoch 77 --> loss:0.0117, acc:99.78%, val_loss:0.1658, val_acc:93.93%\n",
      " Epoch 78: iteration 69/70\n",
      "Epoch 78 --> loss:0.0127, acc:99.78%, val_loss:0.0516, val_acc:98.57%\n",
      " Epoch 79: iteration 69/70\n",
      "Epoch 79 --> loss:0.0110, acc:99.78%, val_loss:0.0607, val_acc:97.86%\n",
      " Epoch 80: iteration 69/70\n",
      "Epoch 80 --> loss:0.0102, acc:99.87%, val_loss:0.1060, val_acc:97.14%\n",
      " Epoch 81: iteration 69/70\n",
      "Epoch 81 --> loss:0.0100, acc:99.87%, val_loss:0.0649, val_acc:98.21%\n",
      " Epoch 82: iteration 69/70\n",
      "Epoch 82 --> loss:0.0123, acc:99.78%, val_loss:0.0561, val_acc:98.93%\n",
      " Epoch 83: iteration 69/70\n",
      "Epoch 83 --> loss:0.0090, acc:99.96%, val_loss:0.0650, val_acc:98.57%\n"
     ]
    },
    {
     "name": "stdout",
     "output_type": "stream",
     "text": [
      " Epoch 84: iteration 69/70\n",
      "Epoch 84 --> loss:0.0133, acc:99.60%, val_loss:0.0933, val_acc:96.79%\n",
      " Epoch 85: iteration 69/70\n",
      "Epoch 85 --> loss:0.0145, acc:99.73%, val_loss:0.0602, val_acc:97.86%\n",
      " Epoch 86: iteration 69/70\n",
      "Epoch 86 --> loss:0.0126, acc:99.73%, val_loss:0.0536, val_acc:99.29%\n",
      " Epoch 87: iteration 69/70\n",
      "Epoch 87 --> loss:0.0070, acc:100.00%, val_loss:0.0510, val_acc:98.93%\n",
      " Epoch 88: iteration 69/70\n",
      "Epoch 88 --> loss:0.0081, acc:99.82%, val_loss:0.0584, val_acc:98.21%\n",
      " Epoch 89: iteration 69/70\n",
      "Epoch 89 --> loss:0.0075, acc:99.91%, val_loss:0.0628, val_acc:97.50%\n",
      " Epoch 90: iteration 69/70\n",
      "Epoch 90 --> loss:0.0085, acc:99.96%, val_loss:0.0625, val_acc:97.86%\n",
      " Epoch 91: iteration 69/70\n",
      "Epoch 91 --> loss:0.0078, acc:99.91%, val_loss:0.0722, val_acc:97.86%\n",
      " Epoch 92: iteration 69/70\n",
      "Epoch 92 --> loss:0.0078, acc:99.91%, val_loss:0.0437, val_acc:99.29%\n",
      " Epoch 93: iteration 69/70\n",
      "Epoch 93 --> loss:0.0077, acc:99.91%, val_loss:0.0594, val_acc:98.57%\n",
      " Epoch 94: iteration 69/70\n",
      "Epoch 94 --> loss:0.0095, acc:99.82%, val_loss:0.0562, val_acc:98.57%\n",
      " Epoch 95: iteration 69/70\n",
      "Epoch 95 --> loss:0.0094, acc:99.91%, val_loss:0.0575, val_acc:99.29%\n",
      " Epoch 96: iteration 69/70\n",
      "Epoch 96 --> loss:0.0078, acc:99.96%, val_loss:0.0810, val_acc:97.50%\n",
      " Epoch 97: iteration 69/70\n",
      "Epoch 97 --> loss:0.0084, acc:99.87%, val_loss:0.0703, val_acc:96.79%\n",
      " Epoch 98: iteration 69/70\n",
      "Epoch 98 --> loss:0.0062, acc:100.00%, val_loss:0.0675, val_acc:96.79%\n",
      " Epoch 99: iteration 69/70\n",
      "Epoch 99 --> loss:0.0089, acc:99.87%, val_loss:0.0574, val_acc:98.21%\n",
      " Epoch 100: iteration 69/70\n",
      "Epoch 100 --> loss:0.0074, acc:99.87%, val_loss:0.0748, val_acc:96.79%\n",
      " Epoch 101: iteration 69/70\n",
      "Epoch 101 --> loss:0.0075, acc:99.96%, val_loss:0.0644, val_acc:97.86%\n",
      " Epoch 102: iteration 69/70\n",
      "Epoch 102 --> loss:0.0069, acc:99.91%, val_loss:0.0853, val_acc:97.14%\n",
      " Epoch 103: iteration 69/70\n",
      "Epoch 103 --> loss:0.0064, acc:100.00%, val_loss:0.0711, val_acc:96.43%\n",
      " Epoch 104: iteration 69/70\n",
      "Epoch 104 --> loss:0.0061, acc:99.96%, val_loss:0.0580, val_acc:98.21%\n",
      " Epoch 105: iteration 69/70\n",
      "Epoch 105 --> loss:0.0071, acc:99.96%, val_loss:0.0686, val_acc:97.50%\n",
      " Epoch 106: iteration 69/70\n",
      "Epoch 106 --> loss:0.0133, acc:99.64%, val_loss:0.0598, val_acc:98.57%\n",
      " Epoch 107: iteration 69/70\n",
      "Epoch 107 --> loss:0.0104, acc:99.87%, val_loss:0.0802, val_acc:97.14%\n",
      " Epoch 108: iteration 69/70\n",
      "Epoch 108 --> loss:0.0084, acc:99.96%, val_loss:0.0626, val_acc:97.86%\n",
      " Epoch 109: iteration 69/70\n",
      "Epoch 109 --> loss:0.0077, acc:99.96%, val_loss:0.0586, val_acc:98.21%\n",
      " Epoch 110: iteration 69/70\n",
      "Epoch 110 --> loss:0.0088, acc:99.87%, val_loss:0.0774, val_acc:96.43%\n",
      " Epoch 111: iteration 69/70\n",
      "Epoch 111 --> loss:0.0074, acc:100.00%, val_loss:0.0560, val_acc:98.57%\n",
      " Epoch 112: iteration 69/70\n",
      "Epoch 112 --> loss:0.0073, acc:99.87%, val_loss:0.0757, val_acc:96.79%\n",
      " Epoch 113: iteration 69/70\n",
      "Epoch 113 --> loss:0.0082, acc:99.91%, val_loss:0.0792, val_acc:96.79%\n",
      " Epoch 114: iteration 69/70\n",
      "Epoch 114 --> loss:0.0064, acc:99.96%, val_loss:0.0971, val_acc:96.79%\n",
      " Epoch 115: iteration 69/70\n",
      "Epoch 115 --> loss:0.0059, acc:100.00%, val_loss:0.0761, val_acc:97.50%\n",
      " Epoch 116: iteration 69/70\n",
      "Epoch 116 --> loss:0.0074, acc:99.91%, val_loss:0.0593, val_acc:97.86%\n",
      " Epoch 117: iteration 69/70\n",
      "Epoch 117 --> loss:0.0070, acc:99.91%, val_loss:0.0536, val_acc:98.21%\n",
      " Epoch 118: iteration 69/70\n",
      "Epoch 118 --> loss:0.0061, acc:100.00%, val_loss:0.0595, val_acc:98.57%\n",
      " Epoch 119: iteration 69/70\n",
      "Epoch 119 --> loss:0.0060, acc:100.00%, val_loss:0.0790, val_acc:96.43%\n",
      " Epoch 120: iteration 69/70\n",
      "Epoch 120 --> loss:0.0093, acc:99.82%, val_loss:0.0563, val_acc:97.86%\n",
      " Epoch 121: iteration 69/70\n",
      "Epoch 121 --> loss:0.0074, acc:99.96%, val_loss:0.0669, val_acc:97.50%\n",
      " Epoch 122: iteration 69/70\n",
      "Epoch 122 --> loss:0.0066, acc:99.96%, val_loss:0.0687, val_acc:97.50%\n",
      " Epoch 123: iteration 69/70\n",
      "Epoch 123 --> loss:0.0067, acc:100.00%, val_loss:0.0772, val_acc:97.86%\n",
      " Epoch 124: iteration 69/70\n",
      "Epoch 124 --> loss:0.0066, acc:100.00%, val_loss:0.0710, val_acc:97.14%\n",
      " Epoch 125: iteration 69/70\n",
      "Epoch 125 --> loss:0.0069, acc:99.91%, val_loss:0.0898, val_acc:96.79%\n",
      " Epoch 126: iteration 69/70\n",
      "Epoch 126 --> loss:0.0061, acc:100.00%, val_loss:0.0655, val_acc:97.50%\n",
      " Epoch 127: iteration 69/70\n",
      "Epoch 127 --> loss:0.0070, acc:99.96%, val_loss:0.1137, val_acc:95.00%\n",
      " Epoch 128: iteration 69/70\n",
      "Epoch 128 --> loss:0.0077, acc:99.96%, val_loss:0.0616, val_acc:98.21%\n",
      " Epoch 129: iteration 69/70\n",
      "Epoch 129 --> loss:0.0065, acc:99.96%, val_loss:0.0736, val_acc:97.86%\n",
      " Epoch 130: iteration 69/70\n",
      "Epoch 130 --> loss:0.0064, acc:99.96%, val_loss:0.0752, val_acc:97.14%\n",
      " Epoch 131: iteration 69/70\n",
      "Epoch 131 --> loss:0.0067, acc:99.82%, val_loss:0.0585, val_acc:98.21%\n",
      " Epoch 132: iteration 69/70\n",
      "Epoch 132 --> loss:0.0134, acc:99.82%, val_loss:0.0775, val_acc:97.86%\n",
      " Epoch 133: iteration 69/70\n",
      "Epoch 133 --> loss:0.0141, acc:99.60%, val_loss:0.0810, val_acc:97.86%\n",
      " Epoch 134: iteration 69/70\n",
      "Epoch 134 --> loss:0.0082, acc:99.91%, val_loss:0.0735, val_acc:97.86%\n",
      " Epoch 135: iteration 69/70\n",
      "Epoch 135 --> loss:0.0069, acc:100.00%, val_loss:0.0692, val_acc:96.79%\n",
      " Epoch 136: iteration 69/70\n",
      "Epoch 136 --> loss:0.0066, acc:99.91%, val_loss:0.0679, val_acc:97.86%\n",
      " Epoch 137: iteration 69/70\n",
      "Epoch 137 --> loss:0.0066, acc:99.96%, val_loss:0.0855, val_acc:96.07%\n",
      " Epoch 138: iteration 69/70\n",
      "Epoch 138 --> loss:0.0102, acc:99.87%, val_loss:0.0710, val_acc:97.86%\n",
      " Epoch 139: iteration 69/70\n",
      "Epoch 139 --> loss:0.0061, acc:100.00%, val_loss:0.0549, val_acc:98.21%\n",
      " Epoch 140: iteration 69/70\n",
      "Epoch 140 --> loss:0.0059, acc:100.00%, val_loss:0.0764, val_acc:97.86%\n",
      " Epoch 141: iteration 69/70\n",
      "Epoch 141 --> loss:0.0060, acc:99.91%, val_loss:0.0622, val_acc:97.86%\n",
      " Epoch 142: iteration 69/70\n",
      "Epoch 142 --> loss:0.0057, acc:100.00%, val_loss:0.0778, val_acc:97.50%\n",
      " Epoch 143: iteration 69/70\n",
      "Epoch 143 --> loss:0.0048, acc:100.00%, val_loss:0.0753, val_acc:97.50%\n",
      " Epoch 144: iteration 69/70\n",
      "Epoch 144 --> loss:0.0059, acc:100.00%, val_loss:0.0667, val_acc:97.50%\n",
      " Epoch 145: iteration 69/70\n",
      "Epoch 145 --> loss:0.0050, acc:100.00%, val_loss:0.0686, val_acc:96.79%\n",
      " Epoch 146: iteration 69/70\n",
      "Epoch 146 --> loss:0.0047, acc:100.00%, val_loss:0.0640, val_acc:97.86%\n",
      " Epoch 147: iteration 69/70\n",
      "Epoch 147 --> loss:0.0059, acc:99.96%, val_loss:0.0724, val_acc:97.50%\n",
      " Epoch 148: iteration 69/70\n",
      "Epoch 148 --> loss:0.0049, acc:100.00%, val_loss:0.0728, val_acc:96.79%\n",
      " Epoch 149: iteration 69/70\n",
      "Epoch 149 --> loss:0.0063, acc:100.00%, val_loss:0.0790, val_acc:96.79%\n"
     ]
    }
   ],
   "source": [
    "EPOCHS=150\n",
    "DATASET_SIZE = X_train.shape[0]\n",
    "BATCH_SIZE = 32\n",
    "device = 'cuda' if torch.cuda.is_available() else 'cpu'\n",
    "print('Selected device is {}'.format(device))\n",
    "model = CNN_LSTM(num_emotions=7).to(device)\n",
    "print('Number of trainable params: ',sum(p.numel() for p in model.parameters()) )\n",
    "OPTIMIZER = torch.optim.SGD(model.parameters(),lr=0.001, weight_decay=1e-3, momentum=0.8)\n",
    "\n",
    "train_step = make_train_step(model, loss_func, optimizer=OPTIMIZER)\n",
    "validate = make_validate_func(model,loss_func)\n",
    "losses=[]\n",
    "val_losses = []\n",
    "for epoch in range(EPOCHS):\n",
    "    # schuffle data\n",
    "    ind = np.random.permutation(DATASET_SIZE)\n",
    "    X_train = X_train[ind,:,:,:]\n",
    "    Y_train = [Y_train[i] for i in ind] \n",
    "    epoch_acc = 0\n",
    "    epoch_loss = 0\n",
    "    iters = int(DATASET_SIZE / BATCH_SIZE)\n",
    "    for i in range(iters):\n",
    "        batch_start = i * BATCH_SIZE\n",
    "        batch_end = min(batch_start + BATCH_SIZE, DATASET_SIZE)\n",
    "        actual_batch_size = batch_end-batch_start\n",
    "        X = X_train[batch_start:batch_end,:,:,:]\n",
    "        Y = Y_train[batch_start:batch_end]\n",
    "        X_tensor = torch.tensor(X,device=device).float()\n",
    "        Y_tensor = torch.tensor(Y, dtype=torch.long,device=device)\n",
    "        loss, acc = train_step(X_tensor,Y_tensor)\n",
    "        epoch_acc += acc*actual_batch_size/DATASET_SIZE\n",
    "        epoch_loss += loss*actual_batch_size/DATASET_SIZE\n",
    "        print(f\"\\r Epoch {epoch}: iteration {i}/{iters}\",end='')\n",
    "    X_val_tensor = torch.tensor(X_val,device=device).float()\n",
    "    Y_val_tensor = torch.tensor(Y_val,dtype=torch.long,device=device)\n",
    "    val_loss, val_acc, _ = validate(X_val_tensor,Y_val_tensor)\n",
    "    losses.append(epoch_loss)\n",
    "    val_losses.append(val_loss)\n",
    "    print('')\n",
    "    print(f\"Epoch {epoch} --> loss:{epoch_loss:.4f}, acc:{epoch_acc:.2f}%, val_loss:{val_loss:.4f}, val_acc:{val_acc:.2f}%\")"
   ]
  },
  {
   "cell_type": "markdown",
   "metadata": {
    "id": "xwysi2poWmvf"
   },
   "source": [
    "# Save model"
   ]
  },
  {
   "cell_type": "code",
   "execution_count": null,
   "metadata": {
    "id": "KbJcOvkUWmvg"
   },
   "outputs": [],
   "source": [
    "SAVE_PATH = os.path.join(os.getcwd(),'models')\n",
    "os.makedirs('models',exist_ok=True)\n",
    "torch.save(model.state_dict(),os.path.join(SAVE_PATH,'cnn_lstm.pt'))\n",
    "print('Model is saved to {}'.format(os.path.join(SAVE_PATH,'cnn_lstm.pt')))"
   ]
  },
  {
   "cell_type": "markdown",
   "metadata": {
    "id": "ltVwqKGpWmvg"
   },
   "source": [
    "# Load model"
   ]
  },
  {
   "cell_type": "code",
   "execution_count": null,
   "metadata": {
    "id": "EKXnTrlZWmvg"
   },
   "outputs": [],
   "source": [
    "LOAD_PATH = os.path.join(os.getcwd(),'models')\n",
    "model = ParallelModel(len(EMOTIONS))\n",
    "model.load_state_dict(torch.load(os.path.join(LOAD_PATH,'cnn_lstm.pt2')))\n",
    "print('Model is loaded from {}'.format(os.path.join(LOAD_PATH,'cnn_lstm.pt')))"
   ]
  },
  {
   "cell_type": "markdown",
   "metadata": {
    "id": "Y-OAi2f0Wmvg"
   },
   "source": [
    "# Test"
   ]
  },
  {
   "cell_type": "code",
   "execution_count": 21,
   "metadata": {
    "id": "AXIYDQajWmvh"
   },
   "outputs": [
    {
     "name": "stdout",
     "output_type": "stream",
     "text": [
      "Test loss is 0.104\n",
      "Test accuracy is 95.36%\n"
     ]
    }
   ],
   "source": [
    "X_test_tensor = torch.tensor(X_test,device=device).float()\n",
    "Y_test_tensor = torch.tensor(Y_test,dtype=torch.long,device=device)\n",
    "test_loss, test_acc, predictions = validate(X_test_tensor,Y_test_tensor)\n",
    "print(f'Test loss is {test_loss:.3f}')\n",
    "print(f'Test accuracy is {test_acc:.2f}%')"
   ]
  },
  {
   "cell_type": "markdown",
   "metadata": {
    "id": "UoAen3PtWmvh"
   },
   "source": [
    "# Confusion Matrix"
   ]
  },
  {
   "cell_type": "code",
   "execution_count": null,
   "metadata": {
    "id": "ktWIKtY8Wmvh"
   },
   "outputs": [],
   "source": [
    "predictions = predictions.cpu().numpy()\n",
    "cm = confusion_matrix(Y_test, predictions)\n",
    "names = [EMOTIONS[ind] for ind in range(len(EMOTIONS))]\n",
    "df_cm = pd.DataFrame(cm, index=names, columns=names)\n",
    "# plt.figure(figsize=(10,7))\n",
    "sn.set(font_scale=1.4) # for label size\n",
    "sn.heatmap(df_cm, annot=True, annot_kws={\"size\": 16}) # font size\n",
    "plt.show()"
   ]
  },
  {
   "cell_type": "markdown",
   "metadata": {
    "id": "3KfDrZcCWmvi"
   },
   "source": [
    "# Plot loss"
   ]
  },
  {
   "cell_type": "code",
   "execution_count": null,
   "metadata": {
    "id": "m2EuoqsAWmvj"
   },
   "outputs": [],
   "source": [
    "plt.plot(losses,'b')\n",
    "plt.plot(val_losses,'r')\n",
    "plt.legend(['train loss','val loss'])"
   ]
  },
  {
   "cell_type": "code",
   "execution_count": null,
   "metadata": {},
   "outputs": [],
   "source": []
  }
 ],
 "metadata": {
  "accelerator": "GPU",
  "colab": {
   "collapsed_sections": [],
   "name": "parallel_cnn_attention_lstm.ipynb",
   "provenance": []
  },
  "kernelspec": {
   "display_name": "Python 3",
   "language": "python",
   "name": "python3"
  },
  "language_info": {
   "codemirror_mode": {
    "name": "ipython",
    "version": 3
   },
   "file_extension": ".py",
   "mimetype": "text/x-python",
   "name": "python",
   "nbconvert_exporter": "python",
   "pygments_lexer": "ipython3",
   "version": "3.6.10"
  }
 },
 "nbformat": 4,
 "nbformat_minor": 1
}
